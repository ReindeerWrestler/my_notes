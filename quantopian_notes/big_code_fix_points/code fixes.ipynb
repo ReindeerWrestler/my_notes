{
 "cells": [
  {
   "cell_type": "code",
   "execution_count": null,
   "metadata": {
    "collapsed": true,
    "pycharm": {
     "name": "#%%\n"
    }
   },
   "outputs": [],
   "source": [
    "# to get the het_breuschpagan test for variance in residuals test working\n",
    "\n",
    "import statsmodels.stats.api as sms\n",
    "\n",
    "breusch_pagan_p = sms.het_breuschpagan(model.resid, model.model.exog)[1]\n",
    "\n",
    "\n",
    "# this outputs a dataframe now\n",
    "import statsmodels.stats.diagnostic as smd\n",
    "ljung_box = smd.acorr_ljungbox(residuals, lags = 10)"
   ]
  }
 ],
 "metadata": {
  "kernelspec": {
   "display_name": "Python 3",
   "language": "python",
   "name": "python3"
  },
  "language_info": {
   "codemirror_mode": {
    "name": "ipython",
    "version": 2
   },
   "file_extension": ".py",
   "mimetype": "text/x-python",
   "name": "python",
   "nbconvert_exporter": "python",
   "pygments_lexer": "ipython2",
   "version": "2.7.6"
  }
 },
 "nbformat": 4,
 "nbformat_minor": 0
}