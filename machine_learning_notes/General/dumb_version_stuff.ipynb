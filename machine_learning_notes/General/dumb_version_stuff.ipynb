{
 "cells": [
  {
   "cell_type": "markdown",
   "source": [
    "I have an error when it comes to mismatching versions of tensorflow and numpy.\n",
    "\n",
    "depending on the version of tensorflow I may need to change the version of numpy that I have\n",
    "\n",
    "so if error NotImplementedError: Cannot convert a symbolic Tensor (strided_slice:0) to a numpy array.\n",
    "\n",
    "shows up start downgrading the numpy versions and try again one by one."
   ],
   "metadata": {
    "collapsed": false,
    "pycharm": {
     "name": "#%% md\n"
    }
   }
  },
  {
   "cell_type": "code",
   "execution_count": null,
   "metadata": {
    "collapsed": true,
    "pycharm": {
     "name": "#%%\n"
    }
   },
   "outputs": [],
   "source": []
  }
 ],
 "metadata": {
  "kernelspec": {
   "display_name": "Python 3",
   "language": "python",
   "name": "python3"
  },
  "language_info": {
   "codemirror_mode": {
    "name": "ipython",
    "version": 2
   },
   "file_extension": ".py",
   "mimetype": "text/x-python",
   "name": "python",
   "nbconvert_exporter": "python",
   "pygments_lexer": "ipython2",
   "version": "2.7.6"
  }
 },
 "nbformat": 4,
 "nbformat_minor": 0
}