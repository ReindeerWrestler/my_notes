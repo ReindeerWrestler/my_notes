{
 "cells": [
  {
   "cell_type": "code",
   "execution_count": 1,
   "metadata": {
    "collapsed": true
   },
   "outputs": [],
   "source": [
    "import os\n",
    "\n",
    "pdf_file_path = \"/home/nelson/Desktop/Papers\""
   ]
  },
  {
   "cell_type": "code",
   "execution_count": 2,
   "outputs": [
    {
     "data": {
      "text/plain": "['Understanding Momentum and Reversal?.pdf',\n 'Oil and Fiscal Policy Regimes.pdf',\n 'Supervised portfolios.pdf',\n 'Understanding the Momentum Risk Premium: An In-Depth Journey Through Trend-Following Strategies∗.pdf',\n 'Algorithmic and advanced Programming in Python class 5.pdf',\n 'THE INFORMATION CONTENT OF CONFLICT, SOCIAL UNREST AND POLICY UNCERTAINTY MEASURES FOR MACROECONOMIC FORECASTING.pdf',\n 'asset_market_linkages_in_crisis_periods.pdf',\n 'The Argument for Bonds in Strategic Asset Allocation.pdf',\n 'TREND WITHOUT HICCUPS - A KALMAN FILTER APPROACH.pdf',\n 'Nowcasting business cycle turning points with stock networks and machine learning.pdf',\n 'Tail Risk Hedging Performance: Measuring What Counts.pdf',\n 'Cartel Stability in Times of Low Interest Rates.pdf',\n 'Disentangling Autocorrelated Intraday Returns.pdf',\n 'Trend-following strategies for tail-risk.pdf',\n 'What Data Series Matter?.pdf',\n 'THE DIVERSITY OF REAL ASSETS: PORTFOLIO CONSTRUCTION FOR INSTITUTIONAL INVESTORS.pdf',\n 'The effect of inflation on land prices and gold.pdf',\n 'Lessons Learned from the Market’s Perfect Storm.pdf',\n 'Withdrawal of High-Frequency Traders and Intraday ETF Volatility during the Covid-19 Crisis ∗.pdf',\n 'Strategic Rebalancing.pdf',\n 'A TIPS Scorecard: Are TIPS Accomplishing What They Were Supposed to Accomplish? Can They Be Improved?.pdf',\n 'THE 60-40 PROBLEM.pdf',\n 'Demystifying Time-Series Momentum Strategies: Volatility Estimators, Trading Rules and Pairwise Correlations.pdf',\n 'Short-term Momentum.pdf',\n 'have read good and very much worth referencing',\n 'Portfolio Rebalancing: Tradeoffs and Decisions†.pdf',\n 'Keep_Up_The_Momentum.pdf',\n 'VOLATILITY IS (MOSTLY) PATH-DEPENDENT.pdf',\n 'A Safe Haven Index∗.pdf',\n 'Is Factor Momentum More than Stock Momentum?.pdf',\n 'The FOMC Risk Shift∗.pdf',\n 'MomentumTurningPoints_powerpoint.pdf',\n 'Breaking Bad Trends.pdf',\n 'Liquidity Cascades - Newfound Research.pdf',\n 'Mathematics for Machine Learning.pdf',\n 'The Impact of Monetary Policy on the Specialness of U.S. Treasuries.pdf',\n 'An Intelligent Trading System with Fuzzy Rules and Fuzzy Capital Management.pdf',\n 'The relationship between equity and bond returns: An empirical investigation.pdf',\n 'MODEL RISK AND THE GREAT FINANCIAL CRISIS:\\nTHE RISE OF MODERN MODEL RISK MANAGEMENT.pdf',\n 'A Backtesting Protocol in the Era of Machine Learning .pdf',\n 'The Long-run Relationship of Gold and Silver and the Influence of Bubbles and Financial Crises.pdf',\n 'Modelling and trading the U.S. implied volatility indices. Evidence from the VIX, VXN and VXD indices..pdf',\n '151 Trading Strategies.pdf',\n 'Global Tactical Asset Allocation.pdf',\n 'The Golden Constant.pdf',\n 'Deep asset allocation for trend following investing.pdf',\n 'Inflation and the Stock Market: Understanding the “Fed Model”∗.pdf',\n 'Do we Need Hundreds of Classifiers to Solve Real World Classification Problems?.pdf',\n 'Investigating candlestick patterns using fuzzy logic in the stock trading system.pdf',\n 'Lazy Momentum with Growth-Trend Timing: Resilient Asset Allocation (RAA).pdf',\n 'Szado_Portfolio_Diversification_LONG_VIX_fut_&_opt_June_15_2020.pdf',\n 'The Effect of Uncertainty on Volatility and Correlation.pdf',\n 'When Diversification Fails.pdf',\n 'Detecting asset price bubbles using deep learning.pdf',\n 'Safe-Haven Properties of Soft Commodities During Times of Covid-19.pdf',\n 'Make-up Strategies with Finite Planning Horizons but Forward-Looking Asset Prices.pdf',\n 'Drawdowns.pdf',\n 'Dead Cat Bounce Demand reversal following the bursting of a bubble.pdf',\n 'DecisionMakingFuzzyLogic.pdf',\n 'Momentum and the Cross-section of Stock Volatility.pdf',\n 'Exchange-Traded Funds and Transparency in OTC Markets∗.pdf',\n 'The Impact of Volatility Targeting.pdf',\n 'Algorithmic and advanced Programming in Python class 1.pdf',\n 'Residual Momentum.pdf',\n 'Intraday Market Predictability: A Machine Learning Approach.pdf',\n 'Evidential Strategies in Financial Statement Analysis: A Corpus Linguistic Text Mining Approach to Bankruptcy Prediction.pdf',\n 'Algorithmic and advanced Programming in Python class 9.pdf',\n 'Right Tail Hedging: Managing Risk When Markets Melt Up.pdf',\n 'A-Good-Time-for-Trend-Following-FINAL.pdf',\n 'Momentum Turning Points.pdf',\n 'What_you_didnt_know_09012020.pdf',\n 'The Impact of Skew on Performance and Bias.pdf',\n 'Tactical Asset Allocation to Gold.pdf',\n 'Fuzzy logic, trading uncertainty and technical trading.pdf',\n 'Simple and Effective Market Timing with Tactical Asset Allocation Part 2 - Choices.pdf',\n 'Trend Filtering Methods for Momentum Strategies∗.pdf',\n 'When Does the Fed Care About Stock Prices?.pdf',\n 'Interest-Growth Differentials and Debt Limits in Advanced Economies.pdf',\n 'Understanding Momentum and Reversal.pdf',\n 'The Risk in Hedge Fund Strategies: Theory and Evidence from Trend Followers.pdf',\n 'AQR Tail Risk Hedging Contrasting Put and Trend Strategies.pdf',\n 'Why and how systematic strategies decay.pdf',\n 'Momentum crashes and variations to market liquidity.pdf',\n 'Debt Is Not Free.pdf',\n 'eight-centuries-of-global-real-interest-rates-r-g-and-the-suprasecular-decline-1311-2018.pdf',\n 'A Modern, Behavior-Aware Approach to Asset Allocation and Portfolio Construction.pdf',\n 'Handling risk-on-risk-off dynamics with correlation regimes and correlation networks.pdf',\n 'The Federal Reserve and the 2020 Economic and Financial Crisis.pdf',\n 'Rebalance Timing Luck: The Difference between Hired and Fired.pdf',\n 'Optimal Trend Following Trading Rules.pdf',\n 'A machine learning approach to volatility forecasting.pdf',\n 'The Myth of Diversification Reconsidered.pdf',\n 'Momentum Strategies for the ETF-Based Portfolios.pdf',\n 'Is this time different? Trend following and financial crises.pdf',\n 'Algorithmic and advanced Programming in Python class  7.pdf',\n 'Trend Analysis in the Age of Machine Learning.pdf',\n 'A macroprudential view on portfolio rebalancing and compression.pdf',\n 'Blue Mountain - Who is on the other side.pdf',\n 'The Best of Strategies for the Worst of Times: Can Portfolios be Crisis Proofed?.pdf',\n 'Investing in Gold – Market Timing or Buy-and-Hold?.pdf',\n 'The Intraday Impact of Macroeconomic News on Price Moves of Financial Instruments.pdf',\n 'Building Cross-Sectional Systematic Strategies By Learning to Rank.pdf',\n 'You Can’t Always Trend When You Want.pdf',\n 'A Machine Learning Approach to Predict Turning Points for Chaotic Financial Time Series.pdf',\n 'ADAPTIVE ASSET ALLOCATION: A PRIMER.pdf',\n 'Simple and Effective Market Timing with Tactical Asset Allocation.pdf',\n 'FRM_Perspectives_Paid_to_be_Paranoid__Trending,_Fast_and_Slow_English_15-12-2021.pdf',\n 'Stable Dividends under Linear-Quadratic Optimization.pdf',\n 'ON VIX FUTURES IN THE ROUGH BERGOMI MODEL.pdf',\n 'Market Timing: Opportunities and Risks.pdf',\n 'A Financial Decision Supporting System Based on Fuzzy Candlestick Patterns.pdf',\n 'Algorithmic Trading Using Continuous Action Space Deep Reinforcement Learning.pdf',\n 'A Case of ‘Wag the Dog’?.pdf',\n 'Why Fundamentals Matter.pdf',\n 'Growth-Trend Timing and 60-40 Variations: Lethargic Asset Allocation (LAA).pdf',\n 'M5_accuracy_competition.pdf',\n 'ThesisFinal_MininderSethi.pdf',\n 'Algorithmic and advanced Programming in Python class 8.pdf',\n 'Have read is good',\n 'Stock Reversal Pattern Mining Based on Fuzzy Candlestick Lines.pdf',\n 'Rebalance Timing Luck: The Dumb (Timing) Luck of Smart Beta.pdf',\n 'Momentum, Market-Regime and Stocks & Options Trading Strategies..pdf',\n 'Random walks, liquidity molasses and critical response in financial markets.pdf',\n 'The Trend is Your Friend: A Note on An Ensemble Learning Approach to Finding It.pdf',\n 'Non-Financial Disclosure and Economic Performance of Top Italian Listed Banks.pdf',\n 'Trend Following: Equity and Bond Crisis Alpha.pdf',\n 'Volatility vs. downside risk.pdf',\n 'Breadth Momentum and the Canary Universe: Defensive Asset Allocation (DAA).pdf',\n 'Hedging demand and market intraday momentum.pdf',\n 'Algorithmic and advanced Programming in Python class 6.pdf',\n 'Designing Universal Causal Deep Learning Models: The Case of Infinite-Dimensional Dynamical Systems from Stochastic Analysis.pdf',\n 'Sentiment Across Asset Markets∗.pdf',\n 'Deep Learning for Asset Bubbles Detection.pdf',\n 'The Role of U.S. Monetary Policy in Global Banking Crises.pdf',\n 'Growth and Trend_ A Simple, Powerful Technique for Timing the Stock Market _ PHILOSOPHICAL ECONOMICS.pdf',\n 'The Effectiveness of Asset Classes in Hedging Risk.pdf',\n 'A Compensatory Fuzzy Logic Model in Technical Trading.pdf',\n 'Fact, Fiction and Momentum Investing.pdf',\n 'Explaining the Gamestop Short Squeeze using Ιntraday Data and Google Searches..pdf',\n 'The Effects of Money Supply and Interest Rates on Stock Prices, Evidence from Two Behavioral Experiments.pdf',\n 'Gold as a hedge against the dollar.pdf',\n 'Combining Reinforcement Learning and Inverse Reinforcement Learning for Asset Allocation Recommendations.pdf',\n 'When to Own Stocks and When to Own Gold.pdf',\n 'When Do Informed Short Sellers Trade?.pdf',\n 'Short Term Trading Models – Mean Reversion Trading Strategies and the Black Swan Events.pdf',\n 'Multi-asset financial bubbles in an agent-based model with noise traders’ herding described by an n-vector Ising model.pdf',\n 'Reducing sequence risk using trend following and the CAPE ratio.pdf',\n 'Robust Leveraged ETF Portfolios Extending Classic 40\\\\60 Portfolios and Portfolio Insurance.pdf',\n 'Time Series Momentum.pdf',\n 'Protective Asset Allocation (PAA); A Simple Momentum-based Alternative for Term Deposits.pdf',\n 'Bitcoin, Currencies, and Fragility.pdf',\n 'Gold’s Value as an Investment.pdf',\n 'Irreducible Risks Fallacy of the Risk-Neutral Approach to Options.pdf',\n 'Algorithmic and advanced Programming in Python class 3.pdf',\n 'Hedge Fund Strategy Replication via Machine Learning.pdf',\n 'Quant Bust 2020.pdf',\n 'What Drives Intraday Reversal? Illiquidity or Liquidity Oversupply?.pdf',\n 'THE GOLDEN DILEMMA.pdf',\n 'Algorithmic and advanced Programming in Python class 4.pdf',\n 'Is Gold a Safe Haven in all Currencies?.pdf',\n 'Regime Switches in Interest Rates.pdf',\n 'The Dollar During the Global Recession: US Monetary Policy and the Exorbitant Duty.pdf',\n 'Financial Turmoil and Safe Haven Assets.pdf',\n 'Risk Premia Harvesting Through Dual Momentum.pdf',\n 'A New Attempt to Identify Long-term Precursors for Endogenous Financial Crises in the Market Correlation Structures.pdf',\n 'Applying Machine Learning to Trading Strategies: Using Logistic Regression to Build Momentum-based Trading Strategies *.pdf',\n 'DiversifyingtheWhatHowandWhenofTrendFollowing.pdf',\n 'Strategic Risk Management:\\nev Out-of-sample evidence from the C.pdf',\n 'Taking the Stag out of Stagflation.pdf',\n 'Machine Learning for Predicting Stock Return Volatility.pdf',\n 'have read not good but keeping',\n 'False Safe Haven Assets: Evidence From the Target Volatility Strategy Based on Recurrent Neural Network.pdf',\n 'SEARCHING FOR SAFE-HAVEN ASSETS DURING THE COVID-19 PANDEMIC.pdf',\n 'Diversifying Diversification: Downside Risk Management with Portfolios of Insurance Securities 1.pdf',\n 'Religiosity at the Top and Annual Report Readability.pdf',\n 'Gold, the Golden Constant, COVID-19, “Massive Passives”.pdf',\n 'ON THE PRICING OF CORPORATE DEBT: THE RISK STRUCTURE OF INTEREST RATES.pdf',\n 'Systemic risk and bank business models.pdf',\n 'Algorithmic and advanced Programming in Python class 2.pdf',\n 'Applying, updating and comparing bankruptcy forecasting models. The case of Greece.pdf',\n 'Intraday Return Predictability in the Crude Oil Market: The Role of EIA Inventory Announcements.pdf',\n 'Global Tactical Cross-Asset Allocation: Applying Value and Momentum Across Asset Classes.pdf',\n 'regime-changes-and-financial-markets.pdf',\n 'A Quantitative Approach to Tactical Asset Allocation.pdf',\n 'Trends Everywhere.pdf',\n 'Using-the-yield-curve-to-forecast-recessions-FINAL.pdf',\n 'To Trend or to Revert - A Portfolio Perspective on Time Series Momentum.pdf']"
     },
     "execution_count": 2,
     "metadata": {},
     "output_type": "execute_result"
    }
   ],
   "source": [
    "file_names = os.listdir(pdf_file_path)\n",
    "file_names"
   ],
   "metadata": {
    "collapsed": false
   }
  },
  {
   "cell_type": "markdown",
   "source": [],
   "metadata": {
    "collapsed": false
   }
  },
  {
   "cell_type": "code",
   "execution_count": 5,
   "outputs": [
    {
     "data": {
      "text/plain": "['p',\n '*',\n 'M',\n 'C',\n '‘',\n 'Ι',\n '“',\n 'n',\n 'A',\n 'J',\n '_',\n '–',\n '†',\n 'O',\n '6',\n ';',\n 'z',\n '3',\n 'e',\n ':',\n 'v',\n '1',\n 'E',\n 'D',\n 'u',\n 'q',\n '7',\n 'U',\n 'r',\n '9',\n '\\n',\n 'a',\n 't',\n '\\\\',\n '-',\n '”',\n 'd',\n 'i',\n 'Y',\n 'Q',\n 'P',\n 'K',\n 'G',\n 'V',\n 's',\n '&',\n 'T',\n '(',\n 'g',\n '4',\n 'y',\n '2',\n 'L',\n 'l',\n 'h',\n 'X',\n 'k',\n 'N',\n 'B',\n 'o',\n 'm',\n 'I',\n 'W',\n 'S',\n '?',\n 'F',\n ')',\n 'f',\n ',',\n 'c',\n '0',\n '’',\n 'w',\n 'H',\n 'R',\n '∗',\n '5',\n '8',\n 'x',\n ' ',\n 'b',\n '.']"
     },
     "execution_count": 5,
     "metadata": {},
     "output_type": "execute_result"
    }
   ],
   "source": [
    "unique_chars = list(set(\" \".join(file_names)))\n",
    "\n",
    "unique_chars"
   ],
   "metadata": {
    "collapsed": false
   }
  },
  {
   "cell_type": "code",
   "execution_count": 13,
   "outputs": [],
   "source": [
    "\n",
    "\n",
    "for file_name in file_names:\n",
    "    new_name = file_name.translate({ord(c): None for c in \"*‘“–_†;:\\n\\\\-”&(?),’∗\"})\n",
    "    os.rename(pdf_file_path + \"/\" + file_name, pdf_file_path + \"/\" + new_name)\n"
   ],
   "metadata": {
    "collapsed": false
   }
  }
 ],
 "metadata": {
  "kernelspec": {
   "display_name": "Python 3",
   "language": "python",
   "name": "python3"
  },
  "language_info": {
   "codemirror_mode": {
    "name": "ipython",
    "version": 2
   },
   "file_extension": ".py",
   "mimetype": "text/x-python",
   "name": "python",
   "nbconvert_exporter": "python",
   "pygments_lexer": "ipython2",
   "version": "2.7.6"
  }
 },
 "nbformat": 4,
 "nbformat_minor": 0
}
