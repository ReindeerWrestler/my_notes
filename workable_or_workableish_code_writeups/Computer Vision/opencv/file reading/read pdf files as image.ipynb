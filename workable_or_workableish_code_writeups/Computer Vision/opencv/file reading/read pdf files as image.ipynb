{
 "cells": [
  {
   "cell_type": "code",
   "execution_count": null,
   "metadata": {
    "collapsed": true,
    "pycharm": {
     "name": "#%%\n"
    }
   },
   "outputs": [],
   "source": [
    "# imports\n",
    "from pdf2image import convert_from_path\n",
    "import cv2\n",
    "import numpy as np\n",
    "\n",
    "# convert PDF to image then to array ready for opencv\n",
    "# will read in multi and single page pdfs\n",
    "pages = convert_from_path('sample.pdf')\n",
    "pdf_images = []\n",
    "for page in pages:\n",
    "    pdf_images.append(np.array(page))\n",
    "\n",
    "# opencv code to view image\n",
    "# img = cv2.resize(pdf_images[0], None, fx=0.5, fy=0.5)\n",
    "# cv2.imshow(\"img\", img)\n",
    "# cv2.waitKey(0)\n",
    "# cv2.destroyAllWindows()"
   ]
  }
 ],
 "metadata": {
  "kernelspec": {
   "display_name": "Python 3",
   "language": "python",
   "name": "python3"
  },
  "language_info": {
   "codemirror_mode": {
    "name": "ipython",
    "version": 2
   },
   "file_extension": ".py",
   "mimetype": "text/x-python",
   "name": "python",
   "nbconvert_exporter": "python",
   "pygments_lexer": "ipython2",
   "version": "2.7.6"
  }
 },
 "nbformat": 4,
 "nbformat_minor": 0
}