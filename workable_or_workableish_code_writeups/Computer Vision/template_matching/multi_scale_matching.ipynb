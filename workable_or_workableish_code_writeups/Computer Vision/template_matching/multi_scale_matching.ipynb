{
 "cells": [
  {
   "cell_type": "code",
   "execution_count": null,
   "metadata": {
    "collapsed": true,
    "pycharm": {
     "name": "#%%\n"
    }
   },
   "outputs": [],
   "source": [
    "import cv2\n",
    "import numpy as np\n",
    "import matplotlib.pyplot as plt  # plt is easier to show images in notebook\n",
    "import imutils\n",
    "\n",
    "template_placeholder = \"lotus.png\"\n",
    "template = cv2.imread(\"templates/lotus.png\")\n",
    "\n",
    "image_list_placeholder = []\n",
    "\n",
    "template_gray = cv2.cvtColor(template, cv2.COLOR_BGRA2GRAY)\n",
    "(tH, tW) = template_gray.shape[:2]\n",
    "\n",
    "\n",
    "found = None\n",
    "\n",
    "template_results = []\n",
    "p = []\n",
    "for im in image_list_placeholder:\n",
    "    gray_page = cv2.cvtColor(im, cv2.COLOR_BGRA2GRAY)\n",
    "\n",
    "    p.append(gray_page)\n",
    "    for scale in np.linspace(0.2, 1.0, 20)[::-1]:  # start from 100% of the original size of the image and work our way down to 20% of the original size in 20 equally sized percent chunks\n",
    "        resized_im = imutils.resize(gray_page, width = int(gray_page.shape[1] * scale))\n",
    "        resizing_ratio = gray_page.shape[1] / float(resized_im.shape[1])  # ratio of the resizing\n",
    "\n",
    "        if resized_im.shape[0] < tH or resized_im.shape[1] < tW:  # break if smaller than template\n",
    "            break\n",
    "\n",
    "        result = cv2.matchTemplate(resized_im, template_gray, cv2.TM_CCOEFF_NORMED)\n",
    "        # another result method with edges below. Rosenbrock uses with text.\n",
    "        # edged = cv2.Canny(resized, 50, 200)\n",
    "\t\t# result = cv2.matchTemplate(edged, template, cv2.TM_CCOEFF)\n",
    "\n",
    "        # max val is what I need to use as a threshold to see if correct id\n",
    "        (minVal, maxVal, minLoc, maxLoc)  = cv2.minMaxLoc(result)\n",
    "\n",
    "        if found is None or maxVal > found[0]:\n",
    "            found = (maxVal, maxLoc, resizing_ratio)\n",
    "\n",
    "    template_results.append(found)\n",
    "    found = None\n",
    "\n",
    "# math to convert the sizing match correctly\n",
    "(_, maxLoc, resizing_ratio) = found = template_results[0][1]\n",
    "(startX, startY) = (int(maxLoc[0] * resizing_ratio), int(maxLoc[1] * resizing_ratio))\n",
    "(endX, endY) = (int((maxLoc[0] + tW) * resizing_ratio), int((maxLoc[1] + tH) * resizing_ratio))\n"
   ]
  },
  {
   "cell_type": "markdown",
   "source": [
    "Calc the hits for template found by using the maxVal on line 36"
   ],
   "metadata": {
    "collapsed": false,
    "pycharm": {
     "name": "#%% md\n"
    }
   }
  }
 ],
 "metadata": {
  "kernelspec": {
   "display_name": "Python 3",
   "language": "python",
   "name": "python3"
  },
  "language_info": {
   "codemirror_mode": {
    "name": "ipython",
    "version": 2
   },
   "file_extension": ".py",
   "mimetype": "text/x-python",
   "name": "python",
   "nbconvert_exporter": "python",
   "pygments_lexer": "ipython2",
   "version": "2.7.6"
  }
 },
 "nbformat": 4,
 "nbformat_minor": 0
}