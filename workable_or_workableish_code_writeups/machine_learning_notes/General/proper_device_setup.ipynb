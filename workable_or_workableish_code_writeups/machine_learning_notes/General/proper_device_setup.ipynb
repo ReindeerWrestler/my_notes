{
 "cells": [
  {
   "cell_type": "markdown",
   "source": [
    "# Making sure that the machine that the code is running on is setup correctly\n",
    "looking at gpu/cuda and other such stuff\n",
    "\n",
    "first to check if tensorflow/keras is picking up the gpu"
   ],
   "metadata": {
    "collapsed": false,
    "pycharm": {
     "name": "#%% md\n"
    }
   }
  },
  {
   "cell_type": "code",
   "execution_count": null,
   "metadata": {
    "collapsed": true,
    "pycharm": {
     "name": "#%%\n"
    }
   },
   "outputs": [],
   "source": [
    "from tensorflow.python.client import device_lib\n",
    "print(device_lib.list_local_devices())\n",
    "\n",
    "# or\n",
    "\n",
    "from tensorflow.python.keras import backend as K\n",
    "K._get_available_gpus()"
   ]
  }
 ],
 "metadata": {
  "kernelspec": {
   "display_name": "Python 3",
   "language": "python",
   "name": "python3"
  },
  "language_info": {
   "codemirror_mode": {
    "name": "ipython",
    "version": 2
   },
   "file_extension": ".py",
   "mimetype": "text/x-python",
   "name": "python",
   "nbconvert_exporter": "python",
   "pygments_lexer": "ipython2",
   "version": "2.7.6"
  }
 },
 "nbformat": 4,
 "nbformat_minor": 0
}