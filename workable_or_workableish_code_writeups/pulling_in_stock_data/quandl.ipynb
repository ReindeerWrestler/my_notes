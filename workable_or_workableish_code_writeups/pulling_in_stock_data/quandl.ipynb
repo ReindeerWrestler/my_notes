{
 "cells": [
  {
   "cell_type": "markdown",
   "source": [
    "Pros:\n",
    "Free to use (rate limited)\n",
    "Datasets can be downloaded\n",
    "Official Python Library\n",
    "Good API documentation\n",
    "Cons:\n",
    "Limited OHLC data\n",
    "No real-time or delayed data for stocks\n",
    "A limited number of free datasets\n",
    "Free API access for non-rate limited use (or freer access at least)\n",
    "Quandl is one of the largest data providers in the world. Their self-confessed mission is the “inspire customers to make new discoveries and incorporate them into trading strategies.” They’ve been around since 2013 and offer millions of free datasets. Yes, millions.\n",
    "\n",
    "In 2018 they were acquired by NASDAQ and have continued to remain an authority on financial data ranging from equities and futures to options, currencies, and other non-financial market data such as housing, energy, and agriculture.\n",
    "Quandl offers official APIs to access any public dataset for free. Here we’ll see how to get OHLC data via the official Quandl python library and also via the pandas-datareader. One important note is that the free Quandl OHLC data only goes up to 2018 at the time of this article’s writing. If you need more recent data and don’t want to pay this source isn’t for you."
   ],
   "metadata": {
    "collapsed": false,
    "pycharm": {
     "name": "#%% md\n"
    }
   }
  },
  {
   "cell_type": "code",
   "execution_count": 1,
   "metadata": {
    "collapsed": true,
    "pycharm": {
     "name": "#%%\n"
    }
   },
   "outputs": [
    {
     "name": "stdout",
     "output_type": "stream",
     "text": [
      "<class 'pandas.core.frame.DataFrame'>\n",
      "DatetimeIndex: 4825 entries, 1999-01-22 to 2018-03-27\n",
      "Data columns (total 12 columns):\n",
      " #   Column       Non-Null Count  Dtype  \n",
      "---  ------       --------------  -----  \n",
      " 0   Open         4825 non-null   float64\n",
      " 1   High         4825 non-null   float64\n",
      " 2   Low          4825 non-null   float64\n",
      " 3   Close        4825 non-null   float64\n",
      " 4   Volume       4825 non-null   float64\n",
      " 5   Ex-Dividend  4825 non-null   float64\n",
      " 6   Split Ratio  4825 non-null   float64\n",
      " 7   Adj. Open    4825 non-null   float64\n",
      " 8   Adj. High    4825 non-null   float64\n",
      " 9   Adj. Low     4825 non-null   float64\n",
      " 10  Adj. Close   4825 non-null   float64\n",
      " 11  Adj. Volume  4825 non-null   float64\n",
      "dtypes: float64(12)\n",
      "memory usage: 490.0 KB\n",
      "None\n"
     ]
    }
   ],
   "source": [
    "import quandl\n",
    "\n",
    "data = quandl.get('WIKI/NVDA')\n",
    "\n",
    "print(data.info())"
   ]
  }
 ],
 "metadata": {
  "kernelspec": {
   "display_name": "Python 3",
   "language": "python",
   "name": "python3"
  },
  "language_info": {
   "codemirror_mode": {
    "name": "ipython",
    "version": 2
   },
   "file_extension": ".py",
   "mimetype": "text/x-python",
   "name": "python",
   "nbconvert_exporter": "python",
   "pygments_lexer": "ipython2",
   "version": "2.7.6"
  }
 },
 "nbformat": 4,
 "nbformat_minor": 0
}