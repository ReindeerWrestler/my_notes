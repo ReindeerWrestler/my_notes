{
 "cells": [
  {
   "cell_type": "code",
   "execution_count": 1,
   "metadata": {
    "collapsed": true,
    "pycharm": {
     "name": "#%%\n"
    }
   },
   "outputs": [
    {
     "name": "stdout",
     "output_type": "stream",
     "text": [
      "<class 'pandas.core.frame.DataFrame'>\n",
      "DatetimeIndex: 1258 entries, 2017-09-06 to 2022-09-02\n",
      "Data columns (total 6 columns):\n",
      " #   Column     Non-Null Count  Dtype  \n",
      "---  ------     --------------  -----  \n",
      " 0   High       1258 non-null   float64\n",
      " 1   Low        1258 non-null   float64\n",
      " 2   Open       1258 non-null   float64\n",
      " 3   Close      1258 non-null   float64\n",
      " 4   Volume     1258 non-null   float64\n",
      " 5   Adj Close  1258 non-null   float64\n",
      "dtypes: float64(6)\n",
      "memory usage: 68.8 KB\n",
      "None\n"
     ]
    }
   ],
   "source": [
    "import pandas as pd\n",
    "import pandas_datareader as pdr\n",
    "\n",
    "data = pdr.get_data_yahoo('NVDA')\n",
    "\n",
    "print(data.info())"
   ]
  },
  {
   "cell_type": "markdown",
   "source": [
    "option two"
   ],
   "metadata": {
    "collapsed": false,
    "pycharm": {
     "name": "#%% md\n"
    }
   }
  },
  {
   "cell_type": "code",
   "execution_count": 3,
   "outputs": [
    {
     "name": "stdout",
     "output_type": "stream",
     "text": [
      "<class 'pandas.core.frame.DataFrame'>\n",
      "DatetimeIndex: 1259 entries, 2017-09-05 to 2022-09-02\n",
      "Data columns (total 7 columns):\n",
      " #   Column        Non-Null Count  Dtype  \n",
      "---  ------        --------------  -----  \n",
      " 0   Open          1259 non-null   float64\n",
      " 1   High          1259 non-null   float64\n",
      " 2   Low           1259 non-null   float64\n",
      " 3   Close         1259 non-null   float64\n",
      " 4   Volume        1259 non-null   int64  \n",
      " 5   Dividends     1259 non-null   float64\n",
      " 6   Stock Splits  1259 non-null   float64\n",
      "dtypes: float64(6), int64(1)\n",
      "memory usage: 78.7 KB\n",
      "None\n"
     ]
    }
   ],
   "source": [
    "import yfinance as yf\n",
    "\n",
    "data = yf.Ticker(\"NVDA\").history(period='5y')\n",
    "\n",
    "print(data.info())"
   ],
   "metadata": {
    "collapsed": false,
    "pycharm": {
     "name": "#%%\n"
    }
   }
  }
 ],
 "metadata": {
  "kernelspec": {
   "display_name": "Python 3",
   "language": "python",
   "name": "python3"
  },
  "language_info": {
   "codemirror_mode": {
    "name": "ipython",
    "version": 2
   },
   "file_extension": ".py",
   "mimetype": "text/x-python",
   "name": "python",
   "nbconvert_exporter": "python",
   "pygments_lexer": "ipython2",
   "version": "2.7.6"
  }
 },
 "nbformat": 4,
 "nbformat_minor": 0
}