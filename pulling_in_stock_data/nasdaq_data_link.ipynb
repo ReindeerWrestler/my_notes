{
 "cells": [
  {
   "cell_type": "markdown",
   "source": [
    "replaced quandl"
   ],
   "metadata": {
    "collapsed": false,
    "pycharm": {
     "name": "#%% md\n"
    }
   }
  },
  {
   "cell_type": "code",
   "execution_count": 3,
   "metadata": {
    "collapsed": true,
    "pycharm": {
     "name": "#%%\n"
    }
   },
   "outputs": [
    {
     "name": "stdout",
     "output_type": "stream",
     "text": [
      "              Open    High     Low     Last    Close  Total Trade Quantity  \\\n",
      "Date                                                                         \n",
      "2009-09-30  1096.0  1156.7  1090.0  1135.00  1141.20            19748012.0   \n",
      "2009-10-01  1102.0  1173.7  1102.0  1167.00  1166.35             3074254.0   \n",
      "2009-10-05  1152.0  1165.9  1136.6  1143.00  1140.55              919832.0   \n",
      "2009-10-06  1149.8  1157.2  1132.1  1143.30  1144.90              627957.0   \n",
      "2009-10-07  1153.8  1160.7  1140.0  1141.45  1141.60              698216.0   \n",
      "\n",
      "            Turnover (Lacs)  \n",
      "Date                         \n",
      "2009-09-30        223877.07  \n",
      "2009-10-01         35463.78  \n",
      "2009-10-05         10581.13  \n",
      "2009-10-06          7185.90  \n",
      "2009-10-07          8032.98  \n"
     ]
    }
   ],
   "source": [
    "import json\n",
    "import pandas\n",
    "import nasdaqdatalink\n",
    "\n",
    "f = open(\"api_keys.json\")\n",
    "api_keys = json.load(f)\n",
    "\n",
    "nasdaqdatalink.read_key(filename=api_keys[\"nasdaq_data_link\"])  # set API key\n",
    "data = nasdaqdatalink.get('NSE/OIL')  # the quick method, gets all data for a dataset\n",
    "\n",
    "print(data.head())"
   ]
  },
  {
   "cell_type": "markdown",
   "source": [
    "more detailed method\n",
    "\n",
    "This example retrieves all rows for ZACKS/FC where ticker='AAPL' and stores them in a pandas dataframe.\n",
    " Similarly, you can then view the dataframe with data.head().\n",
    "\n",
    "\n",
    "Requires a sub to use"
   ],
   "metadata": {
    "collapsed": false,
    "pycharm": {
     "name": "#%% md\n"
    }
   }
  },
  {
   "cell_type": "code",
   "execution_count": 6,
   "outputs": [
    {
     "ename": "ForbiddenError",
     "evalue": "(Status 403) (Nasdaq Data Link Error QEPx04) A valid API key is required to retrieve data. Please check your API key and try again. You can find your API key under your account settings.",
     "output_type": "error",
     "traceback": [
      "\u001B[0;31m---------------------------------------------------------------------------\u001B[0m",
      "\u001B[0;31mForbiddenError\u001B[0m                            Traceback (most recent call last)",
      "Input \u001B[0;32mIn [6]\u001B[0m, in \u001B[0;36m<cell line: 1>\u001B[0;34m()\u001B[0m\n\u001B[0;32m----> 1\u001B[0m data \u001B[38;5;241m=\u001B[39m \u001B[43mnasdaqdatalink\u001B[49m\u001B[38;5;241;43m.\u001B[39;49m\u001B[43mget_table\u001B[49m\u001B[43m(\u001B[49m\u001B[38;5;124;43m'\u001B[39;49m\u001B[38;5;124;43mZACKS/FC\u001B[39;49m\u001B[38;5;124;43m'\u001B[39;49m\u001B[43m,\u001B[49m\u001B[43m \u001B[49m\u001B[43mticker\u001B[49m\u001B[38;5;241;43m=\u001B[39;49m\u001B[38;5;124;43m'\u001B[39;49m\u001B[38;5;124;43mAAPL\u001B[39;49m\u001B[38;5;124;43m'\u001B[39;49m\u001B[43m,\u001B[49m\u001B[43m \u001B[49m\u001B[43mapi_keys\u001B[49m\u001B[38;5;241;43m=\u001B[39;49m\u001B[43mapi_keys\u001B[49m\u001B[43m[\u001B[49m\u001B[38;5;124;43m\"\u001B[39;49m\u001B[38;5;124;43mnasdaq_data_link\u001B[39;49m\u001B[38;5;124;43m\"\u001B[39;49m\u001B[43m]\u001B[49m\u001B[43m)\u001B[49m\n\u001B[1;32m      3\u001B[0m \u001B[38;5;28mprint\u001B[39m(data\u001B[38;5;241m.\u001B[39mhead())\n",
      "File \u001B[0;32m~/anaconda3/envs/Arizona_solar_forecasting/lib/python3.10/site-packages/nasdaqdatalink/get_table.py:19\u001B[0m, in \u001B[0;36mget_table\u001B[0;34m(datatable_code, **options)\u001B[0m\n\u001B[1;32m     17\u001B[0m \u001B[38;5;28;01mwhile\u001B[39;00m \u001B[38;5;28;01mTrue\u001B[39;00m:\n\u001B[1;32m     18\u001B[0m     next_options \u001B[38;5;241m=\u001B[39m copy\u001B[38;5;241m.\u001B[39mdeepcopy(options)\n\u001B[0;32m---> 19\u001B[0m     next_data \u001B[38;5;241m=\u001B[39m \u001B[43mDatatable\u001B[49m\u001B[43m(\u001B[49m\u001B[43mdatatable_code\u001B[49m\u001B[43m)\u001B[49m\u001B[38;5;241;43m.\u001B[39;49m\u001B[43mdata\u001B[49m\u001B[43m(\u001B[49m\u001B[43mparams\u001B[49m\u001B[38;5;241;43m=\u001B[39;49m\u001B[43mnext_options\u001B[49m\u001B[43m)\u001B[49m\n\u001B[1;32m     21\u001B[0m     \u001B[38;5;28;01mif\u001B[39;00m data \u001B[38;5;129;01mis\u001B[39;00m \u001B[38;5;28;01mNone\u001B[39;00m:\n\u001B[1;32m     22\u001B[0m         data \u001B[38;5;241m=\u001B[39m next_data\n",
      "File \u001B[0;32m~/anaconda3/envs/Arizona_solar_forecasting/lib/python3.10/site-packages/nasdaqdatalink/model/datatable.py:31\u001B[0m, in \u001B[0;36mDatatable.data\u001B[0;34m(self, **options)\u001B[0m\n\u001B[1;32m     29\u001B[0m \u001B[38;5;28;01mif\u001B[39;00m \u001B[38;5;129;01mnot\u001B[39;00m options:\n\u001B[1;32m     30\u001B[0m     options \u001B[38;5;241m=\u001B[39m {\u001B[38;5;124m'\u001B[39m\u001B[38;5;124mparams\u001B[39m\u001B[38;5;124m'\u001B[39m: {}}\n\u001B[0;32m---> 31\u001B[0m \u001B[38;5;28;01mreturn\u001B[39;00m \u001B[43mData\u001B[49m\u001B[38;5;241;43m.\u001B[39;49m\u001B[43mpage\u001B[49m\u001B[43m(\u001B[49m\u001B[38;5;28;43mself\u001B[39;49m\u001B[43m,\u001B[49m\u001B[43m \u001B[49m\u001B[38;5;241;43m*\u001B[39;49m\u001B[38;5;241;43m*\u001B[39;49m\u001B[43moptions\u001B[49m\u001B[43m)\u001B[49m\n",
      "File \u001B[0;32m~/anaconda3/envs/Arizona_solar_forecasting/lib/python3.10/site-packages/nasdaqdatalink/operations/list.py:30\u001B[0m, in \u001B[0;36mListOperation.page\u001B[0;34m(cls, datatable, **options)\u001B[0m\n\u001B[1;32m     26\u001B[0m request_type \u001B[38;5;241m=\u001B[39m RequestType\u001B[38;5;241m.\u001B[39mget_request_type(path, \u001B[38;5;241m*\u001B[39m\u001B[38;5;241m*\u001B[39moptions)\n\u001B[1;32m     28\u001B[0m updated_options \u001B[38;5;241m=\u001B[39m Util\u001B[38;5;241m.\u001B[39mconvert_options(request_type\u001B[38;5;241m=\u001B[39mrequest_type, \u001B[38;5;241m*\u001B[39m\u001B[38;5;241m*\u001B[39moptions)\n\u001B[0;32m---> 30\u001B[0m r \u001B[38;5;241m=\u001B[39m \u001B[43mConnection\u001B[49m\u001B[38;5;241;43m.\u001B[39;49m\u001B[43mrequest\u001B[49m\u001B[43m(\u001B[49m\u001B[43mrequest_type\u001B[49m\u001B[43m,\u001B[49m\u001B[43m \u001B[49m\u001B[43mpath\u001B[49m\u001B[43m,\u001B[49m\u001B[43m \u001B[49m\u001B[38;5;241;43m*\u001B[39;49m\u001B[38;5;241;43m*\u001B[39;49m\u001B[43mupdated_options\u001B[49m\u001B[43m)\u001B[49m\n\u001B[1;32m     32\u001B[0m response_data \u001B[38;5;241m=\u001B[39m r\u001B[38;5;241m.\u001B[39mjson()\n\u001B[1;32m     33\u001B[0m Util\u001B[38;5;241m.\u001B[39mconvert_to_dates(response_data)\n",
      "File \u001B[0;32m~/anaconda3/envs/Arizona_solar_forecasting/lib/python3.10/site-packages/nasdaqdatalink/connection.py:40\u001B[0m, in \u001B[0;36mConnection.request\u001B[0;34m(cls, http_verb, url, **options)\u001B[0m\n\u001B[1;32m     36\u001B[0m options[\u001B[38;5;124m'\u001B[39m\u001B[38;5;124mheaders\u001B[39m\u001B[38;5;124m'\u001B[39m] \u001B[38;5;241m=\u001B[39m headers\n\u001B[1;32m     38\u001B[0m abs_url \u001B[38;5;241m=\u001B[39m \u001B[38;5;124m'\u001B[39m\u001B[38;5;132;01m%s\u001B[39;00m\u001B[38;5;124m/\u001B[39m\u001B[38;5;132;01m%s\u001B[39;00m\u001B[38;5;124m'\u001B[39m \u001B[38;5;241m%\u001B[39m (ApiConfig\u001B[38;5;241m.\u001B[39mapi_base, url)\n\u001B[0;32m---> 40\u001B[0m \u001B[38;5;28;01mreturn\u001B[39;00m \u001B[38;5;28;43mcls\u001B[39;49m\u001B[38;5;241;43m.\u001B[39;49m\u001B[43mexecute_request\u001B[49m\u001B[43m(\u001B[49m\u001B[43mhttp_verb\u001B[49m\u001B[43m,\u001B[49m\u001B[43m \u001B[49m\u001B[43mabs_url\u001B[49m\u001B[43m,\u001B[49m\u001B[43m \u001B[49m\u001B[38;5;241;43m*\u001B[39;49m\u001B[38;5;241;43m*\u001B[39;49m\u001B[43moptions\u001B[49m\u001B[43m)\u001B[49m\n",
      "File \u001B[0;32m~/anaconda3/envs/Arizona_solar_forecasting/lib/python3.10/site-packages/nasdaqdatalink/connection.py:52\u001B[0m, in \u001B[0;36mConnection.execute_request\u001B[0;34m(cls, http_verb, url, **options)\u001B[0m\n\u001B[1;32m     47\u001B[0m response \u001B[38;5;241m=\u001B[39m session\u001B[38;5;241m.\u001B[39mrequest(method\u001B[38;5;241m=\u001B[39mhttp_verb,\n\u001B[1;32m     48\u001B[0m                            url\u001B[38;5;241m=\u001B[39murl,\n\u001B[1;32m     49\u001B[0m                            verify\u001B[38;5;241m=\u001B[39mApiConfig\u001B[38;5;241m.\u001B[39mverify_ssl,\n\u001B[1;32m     50\u001B[0m                            \u001B[38;5;241m*\u001B[39m\u001B[38;5;241m*\u001B[39moptions)\n\u001B[1;32m     51\u001B[0m \u001B[38;5;28;01mif\u001B[39;00m response\u001B[38;5;241m.\u001B[39mstatus_code \u001B[38;5;241m<\u001B[39m \u001B[38;5;241m200\u001B[39m \u001B[38;5;129;01mor\u001B[39;00m response\u001B[38;5;241m.\u001B[39mstatus_code \u001B[38;5;241m>\u001B[39m\u001B[38;5;241m=\u001B[39m \u001B[38;5;241m300\u001B[39m:\n\u001B[0;32m---> 52\u001B[0m     \u001B[38;5;28;43mcls\u001B[39;49m\u001B[38;5;241;43m.\u001B[39;49m\u001B[43mhandle_api_error\u001B[49m\u001B[43m(\u001B[49m\u001B[43mresponse\u001B[49m\u001B[43m)\u001B[49m\n\u001B[1;32m     53\u001B[0m \u001B[38;5;28;01melse\u001B[39;00m:\n\u001B[1;32m     54\u001B[0m     \u001B[38;5;28;01mreturn\u001B[39;00m response\n",
      "File \u001B[0;32m~/anaconda3/envs/Arizona_solar_forecasting/lib/python3.10/site-packages/nasdaqdatalink/connection.py:120\u001B[0m, in \u001B[0;36mConnection.handle_api_error\u001B[0;34m(cls, resp)\u001B[0m\n\u001B[1;32m    109\u001B[0m d_klass \u001B[38;5;241m=\u001B[39m {\n\u001B[1;32m    110\u001B[0m     \u001B[38;5;124m'\u001B[39m\u001B[38;5;124mL\u001B[39m\u001B[38;5;124m'\u001B[39m: LimitExceededError,\n\u001B[1;32m    111\u001B[0m     \u001B[38;5;124m'\u001B[39m\u001B[38;5;124mM\u001B[39m\u001B[38;5;124m'\u001B[39m: InternalServerError,\n\u001B[0;32m   (...)\u001B[0m\n\u001B[1;32m    116\u001B[0m     \u001B[38;5;124m'\u001B[39m\u001B[38;5;124mX\u001B[39m\u001B[38;5;124m'\u001B[39m: ServiceUnavailableError\n\u001B[1;32m    117\u001B[0m }\n\u001B[1;32m    118\u001B[0m klass \u001B[38;5;241m=\u001B[39m d_klass\u001B[38;5;241m.\u001B[39mget(code_letter, DataLinkError)\n\u001B[0;32m--> 120\u001B[0m \u001B[38;5;28;01mraise\u001B[39;00m klass(message, resp\u001B[38;5;241m.\u001B[39mstatus_code, resp\u001B[38;5;241m.\u001B[39mtext, resp\u001B[38;5;241m.\u001B[39mheaders, code)\n",
      "\u001B[0;31mForbiddenError\u001B[0m: (Status 403) (Nasdaq Data Link Error QEPx04) A valid API key is required to retrieve data. Please check your API key and try again. You can find your API key under your account settings."
     ]
    }
   ],
   "source": [
    "\n",
    "data = nasdaqdatalink.get_table('ZACKS/FC', ticker='AAPL', api_keys=api_keys[\"nasdaq_data_link\"])\n",
    "\n",
    "print(data.head())"
   ],
   "metadata": {
    "collapsed": false,
    "pycharm": {
     "name": "#%%\n"
    }
   }
  },
  {
   "cell_type": "markdown",
   "source": [
    "https://github.com/Nasdaq/data-link-python\n",
    "\n",
    "Link for further information above. Most other features require a sub\n",
    "\n",
    "https://github.com/Nasdaq/data-link-python/blob/main/FOR_ANALYSTS.md\n",
    "\n",
    "Details in functionality\n",
    "\n",
    "https://github.com/Nasdaq/data-link-python/blob/main/FOR_DEVELOPERS.md"
   ],
   "metadata": {
    "collapsed": false,
    "pycharm": {
     "name": "#%% md\n"
    }
   }
  }
 ],
 "metadata": {
  "kernelspec": {
   "display_name": "Python 3",
   "language": "python",
   "name": "python3"
  },
  "language_info": {
   "codemirror_mode": {
    "name": "ipython",
    "version": 2
   },
   "file_extension": ".py",
   "mimetype": "text/x-python",
   "name": "python",
   "nbconvert_exporter": "python",
   "pygments_lexer": "ipython2",
   "version": "2.7.6"
  }
 },
 "nbformat": 4,
 "nbformat_minor": 0
}