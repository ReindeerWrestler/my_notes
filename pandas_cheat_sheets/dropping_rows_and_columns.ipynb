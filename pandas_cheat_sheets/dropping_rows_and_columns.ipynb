{
 "cells": [
  {
   "cell_type": "code",
   "execution_count": 1,
   "metadata": {
    "collapsed": true,
    "pycharm": {
     "name": "#%%\n"
    }
   },
   "outputs": [
    {
     "data": {
      "text/plain": "   A  B   C   D\n0  0  1   2   3\n1  4  5   6   7\n2  8  9  10  11",
      "text/html": "<div>\n<style scoped>\n    .dataframe tbody tr th:only-of-type {\n        vertical-align: middle;\n    }\n\n    .dataframe tbody tr th {\n        vertical-align: top;\n    }\n\n    .dataframe thead th {\n        text-align: right;\n    }\n</style>\n<table border=\"1\" class=\"dataframe\">\n  <thead>\n    <tr style=\"text-align: right;\">\n      <th></th>\n      <th>A</th>\n      <th>B</th>\n      <th>C</th>\n      <th>D</th>\n    </tr>\n  </thead>\n  <tbody>\n    <tr>\n      <th>0</th>\n      <td>0</td>\n      <td>1</td>\n      <td>2</td>\n      <td>3</td>\n    </tr>\n    <tr>\n      <th>1</th>\n      <td>4</td>\n      <td>5</td>\n      <td>6</td>\n      <td>7</td>\n    </tr>\n    <tr>\n      <th>2</th>\n      <td>8</td>\n      <td>9</td>\n      <td>10</td>\n      <td>11</td>\n    </tr>\n  </tbody>\n</table>\n</div>"
     },
     "execution_count": 1,
     "metadata": {},
     "output_type": "execute_result"
    }
   ],
   "source": [
    "import pandas as pd\n",
    "import numpy as np\n",
    "\n",
    "\n",
    "df = pd.DataFrame(np.arange(12).reshape(3, 4),\n",
    "                  columns=['A', 'B', 'C', 'D'])\n",
    "\n",
    "df"
   ]
  },
  {
   "cell_type": "markdown",
   "source": [
    "# Dropping columns"
   ],
   "metadata": {
    "collapsed": false,
    "pycharm": {
     "name": "#%% md\n"
    }
   }
  },
  {
   "cell_type": "code",
   "execution_count": 2,
   "outputs": [],
   "source": [
    "# Delete a single column from the DataFrame\n",
    "df_output = df.drop(labels=\"A\", axis=1)\n",
    "\n",
    "# multiple columns\n",
    "df_output = df.drop(labels=[\"A\", \"B\"], axis=1)\n",
    "\n",
    "# other phrasing for dropping a column but same actions as above\n",
    "df_output = df.drop(columns=\"A\")\n",
    "\n",
    "df_output = df.drop(columns=[\"A\", \"B\"])\n",
    "\n",
    "# drop the column by column index\n",
    "df_output = df.drop(columns=df.columns[3])  # will delete multiple columns if column_name_1 == column_name_2, etc\n",
    "\n",
    "# to safely delete columns from a dataframe\n",
    "# create list of all the columns to keep\n",
    "columns_to_keep = [x for x in range(df.shape[1]) if x not in [1,2]]\n",
    "\n",
    "# then delete the columns by using iloc\n",
    "df_output = df.iloc[:, columns_to_keep]"
   ],
   "metadata": {
    "collapsed": false,
    "pycharm": {
     "name": "#%%\n"
    }
   }
  },
  {
   "cell_type": "markdown",
   "source": [
    "# Dropping rows from the Dataframe\n",
    "Drop is best used for small numbers of rows"
   ],
   "metadata": {
    "collapsed": false,
    "pycharm": {
     "name": "#%% md\n"
    }
   }
  },
  {
   "cell_type": "code",
   "execution_count": 3,
   "outputs": [],
   "source": [
    "# drop a single row. Assumes int row indexes\n",
    "df_output = df.drop(labels=0, axis=0)\n",
    "\n",
    "# multiple rows\n",
    "df_output = df.drop(labels=[0,2], axis=0)\n",
    "\n",
    "# range of rows\n",
    "df_output = df.drop(labels=range(0, 1), axis=0)\n",
    "\n",
    "# the shorter versions of the above code\n",
    "df_output = df.drop(0)\n",
    "df_output = df.drop([0,2])\n",
    "df_output = df.drop(range(0, 1))\n",
    "\n"
   ],
   "metadata": {
    "collapsed": false,
    "pycharm": {
     "name": "#%%\n"
    }
   }
  },
  {
   "cell_type": "markdown",
   "source": [
    "# Change index labels to strings"
   ],
   "metadata": {
    "collapsed": false,
    "pycharm": {
     "name": "#%% md\n"
    }
   }
  },
  {
   "cell_type": "code",
   "execution_count": 4,
   "outputs": [
    {
     "data": {
      "text/plain": "      A  B   C   D\nE                 \nzero  0  1   2   3\none   4  5   6   7\ntwo   8  9  10  11",
      "text/html": "<div>\n<style scoped>\n    .dataframe tbody tr th:only-of-type {\n        vertical-align: middle;\n    }\n\n    .dataframe tbody tr th {\n        vertical-align: top;\n    }\n\n    .dataframe thead th {\n        text-align: right;\n    }\n</style>\n<table border=\"1\" class=\"dataframe\">\n  <thead>\n    <tr style=\"text-align: right;\">\n      <th></th>\n      <th>A</th>\n      <th>B</th>\n      <th>C</th>\n      <th>D</th>\n    </tr>\n    <tr>\n      <th>E</th>\n      <th></th>\n      <th></th>\n      <th></th>\n      <th></th>\n    </tr>\n  </thead>\n  <tbody>\n    <tr>\n      <th>zero</th>\n      <td>0</td>\n      <td>1</td>\n      <td>2</td>\n      <td>3</td>\n    </tr>\n    <tr>\n      <th>one</th>\n      <td>4</td>\n      <td>5</td>\n      <td>6</td>\n      <td>7</td>\n    </tr>\n    <tr>\n      <th>two</th>\n      <td>8</td>\n      <td>9</td>\n      <td>10</td>\n      <td>11</td>\n    </tr>\n  </tbody>\n</table>\n</div>"
     },
     "execution_count": 4,
     "metadata": {},
     "output_type": "execute_result"
    }
   ],
   "source": [
    "df[\"E\"] = [\"zero\", \"one\", \"two\"]\n",
    "df = df.set_index(\"E\")\n",
    "\n",
    "df"
   ],
   "metadata": {
    "collapsed": false,
    "pycharm": {
     "name": "#%%\n"
    }
   }
  },
  {
   "cell_type": "markdown",
   "source": [
    "# Resume showing how to drop rows"
   ],
   "metadata": {
    "collapsed": false,
    "pycharm": {
     "name": "#%% md\n"
    }
   }
  },
  {
   "cell_type": "code",
   "execution_count": 5,
   "outputs": [
    {
     "data": {
      "text/plain": "     A  B   C   D\nE                \none  4  5   6   7\ntwo  8  9  10  11",
      "text/html": "<div>\n<style scoped>\n    .dataframe tbody tr th:only-of-type {\n        vertical-align: middle;\n    }\n\n    .dataframe tbody tr th {\n        vertical-align: top;\n    }\n\n    .dataframe thead th {\n        text-align: right;\n    }\n</style>\n<table border=\"1\" class=\"dataframe\">\n  <thead>\n    <tr style=\"text-align: right;\">\n      <th></th>\n      <th>A</th>\n      <th>B</th>\n      <th>C</th>\n      <th>D</th>\n    </tr>\n    <tr>\n      <th>E</th>\n      <th></th>\n      <th></th>\n      <th></th>\n      <th></th>\n    </tr>\n  </thead>\n  <tbody>\n    <tr>\n      <th>one</th>\n      <td>4</td>\n      <td>5</td>\n      <td>6</td>\n      <td>7</td>\n    </tr>\n    <tr>\n      <th>two</th>\n      <td>8</td>\n      <td>9</td>\n      <td>10</td>\n      <td>11</td>\n    </tr>\n  </tbody>\n</table>\n</div>"
     },
     "execution_count": 5,
     "metadata": {},
     "output_type": "execute_result"
    }
   ],
   "source": [
    "df_output = df.drop(\"one\")  # drop one row\n",
    "df_output = df.drop([\"one\", \"two\"])  # drop multiple rows\n",
    "\n",
    "# delete rows based on a number\n",
    "df_output = df.drop(df.index[1])\n",
    "# Delete some chosen rows by row numbers\n",
    "df_output = df.drop(df.index[[1, 2]])\n",
    "# Delete the first 2 rows\n",
    "df_output = df.drop(df.index[range(2)])\n",
    "# Delete the last row in the DataFrame\n",
    "df_output = df.drop(df.index[-1])\n",
    "\n",
    "# delete rows based on column value\n",
    "# selects all rows where \"A\" is not zero. Removing the rows with the 0 value. All other values will remain\n",
    "df_output = df.loc[df[\"A\"] != 0]\n",
    "df_output\n",
    "\n",
    "# remove with index slicing\n",
    "start = \"zero\"\n",
    "stop = \"one\"\n",
    "df[start:stop]  # items start through stop-1\n",
    "df[start:]      # items start through the rest of the DataFrame\n",
    "df[:stop]       # items from the beginning through stop-1\n",
    "df[:]           # a copy of the whole DataFrame"
   ],
   "metadata": {
    "collapsed": false,
    "pycharm": {
     "name": "#%%\n"
    }
   }
  },
  {
   "cell_type": "markdown",
   "source": [
    "# Additional syntax"
   ],
   "metadata": {
    "collapsed": false,
    "pycharm": {
     "name": "#%% md\n"
    }
   }
  },
  {
   "cell_type": "code",
   "execution_count": null,
   "outputs": [],
   "source": [
    "# to perform inplace drops. As in avoid having to copy the Dataframe to a new object\n",
    "df.drop(\"zero\", axis=1, inplace=True)"
   ],
   "metadata": {
    "collapsed": false,
    "pycharm": {
     "name": "#%%\n"
    }
   }
  }
 ],
 "metadata": {
  "kernelspec": {
   "display_name": "Python 3",
   "language": "python",
   "name": "python3"
  },
  "language_info": {
   "codemirror_mode": {
    "name": "ipython",
    "version": 2
   },
   "file_extension": ".py",
   "mimetype": "text/x-python",
   "name": "python",
   "nbconvert_exporter": "python",
   "pygments_lexer": "ipython2",
   "version": "2.7.6"
  }
 },
 "nbformat": 4,
 "nbformat_minor": 0
}