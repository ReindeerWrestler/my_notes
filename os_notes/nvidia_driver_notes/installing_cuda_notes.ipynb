{
 "cells": [
  {
   "cell_type": "markdown",
   "source": [
    "# Can be a pain in the ass\n",
    "\n",
    "https://medium.com/mlearning-ai/how-to-install-the-nvidia-cuda-toolkit-11-2-a94d86a45d38\n",
    "\n",
    "very good guide on getting this install\n",
    "\n",
    "Must have nvidia driver installed.\n",
    "I have notes on this under os_notes"
   ],
   "metadata": {
    "collapsed": false,
    "pycharm": {
     "name": "#%% md\n"
    }
   }
  },
  {
   "cell_type": "code",
   "execution_count": null,
   "metadata": {
    "collapsed": true,
    "pycharm": {
     "name": "#%%\n"
    }
   },
   "outputs": [],
   "source": [
    "# on the off chance something needs to be removed\n",
    "!sudo apt-get --purge remove *cublas* # to remove cuda\n",
    "!sudo apt-get --purge remove *cublas* # other command to remove cuda\n",
    "# follow up with autoremove\n",
    "!sudo apt autoremove\n",
    "\n",
    "!sudo apt-get --purge remove \"libcudnn7*\"  # remove the conda cuDNN\n",
    "!sudo apt-get --purge remove \"*nvidia*\" # remove drivers\n",
    "\n",
    "\n"
   ]
  },
  {
   "cell_type": "markdown",
   "source": [
    "Source for making sure that you will have the correct setup for the right versions\n",
    "of tensorflow, python, cnDNN and cuda\n",
    "\n",
    "https://www.tensorflow.org/install/source#gpu\n",
    "\n"
   ],
   "metadata": {
    "collapsed": false,
    "pycharm": {
     "name": "#%% md\n"
    }
   }
  },
  {
   "cell_type": "code",
   "execution_count": null,
   "outputs": [],
   "source": [
    "# check to see if tensorflow is installed and the version\n",
    "!pip list | grep -i tensor\n",
    "\n",
    "# install tensorflow version\n",
    "!pip install tensorflow==2.9.0\n",
    "\n",
    "# install keras\n",
    "!pip install keras\n",
    "\n",
    "# get the correct keys and repos\n",
    "!sudo apt-key adv --fetch-keys https://developer.download.nvidia.com/compute/cuda/repos/ubuntu2004/x86_64/7fa2af80.pub\n",
    "\n",
    "!sudo sh -c 'echo \"deb http://developer.download.nvidia.com/compute/cuda/repos/ubuntu2004/x86_64 /\" > /etc/apt/sources.list.d/cuda.list'\n",
    "\n",
    "!sudo apt-get update\n",
    "\n",
    "# to install cuda and the correct version of cuda\n",
    "!sudo apt-get --yes install cuda-toolkit-11-2\n",
    "\n",
    "# getting more data repos setup\n",
    "!sudo sh -c 'echo \"deb http://developer.download.nvidia.com/compute/machine-learning/repos/ubuntu2004/x86_64 /\" > /etc/apt/sources.list.d/nvidia-machine-learning.list'\n",
    "\n",
    "!sudo apt-get update\n",
    "\n",
    "# make sure to install this with the correct conda enviorment\n",
    "!sudo apt-get install --yes --no-install-recommends cuda-11-2 libcudnn8=8.1.0.77-1+cuda11.2 libcudnn8-dev=8.1.0.77-1+cuda11.2\n",
    "\n"
   ],
   "metadata": {
    "collapsed": false,
    "pycharm": {
     "name": "#%%\n"
    }
   }
  },
  {
   "cell_type": "markdown",
   "source": [
    "Cuda should be installed now, but you can have a problem with making sure that the correct gcc and g++ versions are\n",
    "\n"
   ],
   "metadata": {
    "collapsed": false,
    "pycharm": {
     "name": "#%% md\n"
    }
   }
  },
  {
   "cell_type": "code",
   "execution_count": null,
   "outputs": [],
   "source": [
    "# -version otherwise the commands are pretty much the same\n",
    "!sudo apt install gcc-10\n",
    "!sudo apt install g++-10\n",
    "\n",
    "# command to switch the versions\n",
    "!sudo update-alternatives --install /usr/bin/gcc gcc /usr/bin/gcc-10 10\n",
    "!sudo update-alternatives --install /usr/bin/g++ g++ /usr/bin/g++-10 10"
   ],
   "metadata": {
    "collapsed": false,
    "pycharm": {
     "name": "#%%\n"
    }
   }
  },
  {
   "cell_type": "markdown",
   "source": [
    "Following commands are used to make sure that  cuda is installed by running a cuda program"
   ],
   "metadata": {
    "collapsed": false,
    "pycharm": {
     "name": "#%% md\n"
    }
   }
  },
  {
   "cell_type": "code",
   "execution_count": null,
   "outputs": [],
   "source": [
    "# move terminal directory to cuda files\n",
    "!cd /usr/local/cuda-11.2/samples/4_Finance/BlackScholes\n",
    "\n",
    "!sudo make\n",
    "\n",
    "# run the file\n",
    "!./BlackScholes"
   ],
   "metadata": {
    "collapsed": false,
    "pycharm": {
     "name": "#%%\n"
    }
   }
  },
  {
   "cell_type": "markdown",
   "source": [
    "Now install tensorflow then run the following command to make sure the gpu is getting picked up"
   ],
   "metadata": {
    "collapsed": false,
    "pycharm": {
     "name": "#%% md\n"
    }
   }
  },
  {
   "cell_type": "code",
   "execution_count": null,
   "outputs": [],
   "source": [
    "import tensorflow as tf\n",
    "print(tf.config.list_physical_devices('GPU'))"
   ],
   "metadata": {
    "collapsed": false,
    "pycharm": {
     "name": "#%%\n"
    }
   }
  },
  {
   "cell_type": "markdown",
   "source": [
    "\n",
    "\n"
   ],
   "metadata": {
    "collapsed": false,
    "pycharm": {
     "name": "#%% md\n"
    }
   }
  }
 ],
 "metadata": {
  "kernelspec": {
   "display_name": "Python 3",
   "language": "python",
   "name": "python3"
  },
  "language_info": {
   "codemirror_mode": {
    "name": "ipython",
    "version": 2
   },
   "file_extension": ".py",
   "mimetype": "text/x-python",
   "name": "python",
   "nbconvert_exporter": "python",
   "pygments_lexer": "ipython2",
   "version": "2.7.6"
  }
 },
 "nbformat": 4,
 "nbformat_minor": 0
}