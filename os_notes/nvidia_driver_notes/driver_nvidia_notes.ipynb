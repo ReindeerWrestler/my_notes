{
 "cells": [
  {
   "cell_type": "markdown",
   "source": [
    "# For some reason this is one of the most pain in the ass things on my current machine. So keeping notes that I need to solve it here"
   ],
   "metadata": {
    "collapsed": false,
    "pycharm": {
     "name": "#%% md\n"
    }
   }
  },
  {
   "cell_type": "code",
   "execution_count": null,
   "metadata": {
    "collapsed": true,
    "pycharm": {
     "name": "#%%\n"
    }
   },
   "outputs": [],
   "source": [
    "# command to check for correct status\n",
    "# that cuda is installed. cuda version\n",
    "!nvcc --version\n",
    "\n",
    "# to install cuda\n",
    "!sudo apt install nvidia-cuda-toolkit\n",
    "\n",
    "# to install cuda's dependencies\n",
    "# gcc check for version, should be 11 or above\n",
    "!gcc --version\n",
    "\n",
    "# g++ check for version, should be 11 or above and same as gcc\n",
    "!gcc --version\n",
    "\n",
    "# command to install both of them\n",
    "!sudo apt install build-essential\n",
    "\n",
    "# to check to see if the gpu has nvidia support, will also show the model of graphics card\n",
    "!lspci | grep -i nvidia\n",
    "\n",
    "# check to see if the operating system has nvidia support, looking for x86_64\n",
    "!uname -m && cat /etc/*release\n",
    "\n",
    "\n",
    "# install drivers if needed\n",
    "# check fo the current drivers installed\n",
    "!sudo ubuntu-drivers devices\n",
    "\n",
    "# install the drivers\n",
    "!sudo ubuntu-drivers autoinstall\n",
    "\n",
    "# switch to the nvidia driver\n",
    "!sudo ubuntu-drivers autoinstall\n",
    "\n",
    "# then reboot the computer\n",
    "!sudo reboot\n",
    "\n",
    "# check for current working driver, can also see in setting about\n",
    "!prime-select query\n",
    "\n",
    "# if needed switch to the nvidia driver\n",
    "!sudo prime-select nvidia\n",
    "\n",
    "# use to check to see if the damn gpu is turned on\n",
    "!nvidia-smi\n",
    "\n",
    "# if needed turn the damn gpu on\n",
    "!sudo nvidia-smi -pm 1\n",
    "\n",
    "\n",
    "# on the off chance something needs to be removed\n",
    "!sudo apt-get --purge remove *cublas* # to remove cuda\n",
    "!sudo apt-get --purge remove *cublas* # other command to remove cuda\n",
    "# follow up with autoremove\n",
    "!sudo apt autoremove\n",
    "\n",
    "!sudo apt-get --purge remove \"libcudnn7*\"  # remove the conda cuDNN\n",
    "!sudo apt-get --purge remove \"*nvidia*\" # remove drivers\n"
   ]
  },
  {
   "cell_type": "markdown",
   "source": [
    "# Now for the checks to see if tensorFlow is picking up the gpu\n",
    "\n",
    "location to find compatible driver versions\n",
    "https://docs.nvidia.com/deploy/cuda-compatibility/index.html#binary-compatibility__table-toolkit-driver\n",
    "\n",
    "Location to find the correct version setups for tensorflow\n",
    "https://www.tensorflow.org/install/source#gpu"
   ],
   "metadata": {
    "collapsed": false,
    "pycharm": {
     "name": "#%% md\n"
    }
   }
  },
  {
   "cell_type": "code",
   "execution_count": null,
   "outputs": [],
   "source": [
    "import tensorflow as tf\n",
    "tf.config.list_physical_devices('GPU')\n",
    "\n",
    "# Or only check for gpu's with cuda support\n",
    "tf.test.is_gpu_available(cuda_only=True)\n"
   ],
   "metadata": {
    "collapsed": false,
    "pycharm": {
     "name": "#%%\n"
    }
   }
  },
  {
   "cell_type": "markdown",
   "source": [
    "location for the correct cuda install that matches up with tensorflow\n",
    "https://developer.nvidia.com/cuda-toolkit-archive\n",
    "\n",
    "Follow all instructions except for the last\n",
    "\n",
    "All sourced from\n",
    "https://medium.com/analytics-vidhya/how-to-set-up-tensorflow-gpu-on-ubuntu-18-04-lts-7a09ffd5f30f"
   ],
   "metadata": {
    "collapsed": false,
    "pycharm": {
     "name": "#%% md\n"
    }
   }
  }
 ],
 "metadata": {
  "kernelspec": {
   "display_name": "Python 3",
   "language": "python",
   "name": "python3"
  },
  "language_info": {
   "codemirror_mode": {
    "name": "ipython",
    "version": 2
   },
   "file_extension": ".py",
   "mimetype": "text/x-python",
   "name": "python",
   "nbconvert_exporter": "python",
   "pygments_lexer": "ipython2",
   "version": "2.7.6"
  }
 },
 "nbformat": 4,
 "nbformat_minor": 0
}