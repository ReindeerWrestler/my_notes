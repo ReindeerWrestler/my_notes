{
 "cells": [
  {
   "cell_type": "markdown",
   "source": [
    "# Arithmetic mean\n",
    "\n",
    "$$\\\\mu = \\\\frac{\\\\sum_{i=1}^N X_i}{N}$$\\n"
   ],
   "metadata": {
    "collapsed": false,
    "pycharm": {
     "name": "#%% md\n"
    }
   }
  },
  {
   "cell_type": "code",
   "execution_count": 2,
   "metadata": {
    "collapsed": true,
    "pycharm": {
     "name": "#%%\n"
    }
   },
   "outputs": [
    {
     "name": "stdout",
     "output_type": "stream",
     "text": [
      "Mean of x1: 29 / 8 = 3.625\n",
      "Mean of x2: 129 / 9 = 14.333333333333334\n"
     ]
    }
   ],
   "source": [
    "# Two useful statistical libraries\n",
    "import scipy.stats as stats\n",
    "import numpy as np\n",
    "\n",
    "# We'll use these two data sets as examples\n",
    "x1 = [1, 2, 2, 3, 4, 5, 5, 7]\n",
    "x2 = x1 + [100]\n",
    "\n",
    "print('Mean of x1:', sum(x1), '/', len(x1), '=', np.mean(x1))\n",
    "print('Mean of x2:', sum(x2), '/', len(x2), '=', np.mean(x2))"
   ]
  },
  {
   "cell_type": "markdown",
   "source": [
    "Weighted arithmetic mean\n",
    "\n",
    "Use for instances when specifying the number of times a observation should be counted. AKA 34% of my stocks are gold miners."
   ],
   "metadata": {
    "collapsed": false,
    "pycharm": {
     "name": "#%% md\n"
    }
   }
  },
  {
   "cell_type": "markdown",
   "source": [
    "# Median\n",
    "number which appears in the middle of the list\n",
    "\n",
    "If odd number $n$ of data points, this is simply the value in position $(n+1)/2$.\n",
    "\n",
    "Even number of data points, the list splits in half and there is no item in the middle; so we define the median as the average of the values in positions $n/2$ and $(n+2)/2$.\\n"
   ],
   "metadata": {
    "collapsed": false,
    "pycharm": {
     "name": "#%% md\n"
    }
   }
  },
  {
   "cell_type": "code",
   "execution_count": 3,
   "outputs": [
    {
     "name": "stdout",
     "output_type": "stream",
     "text": [
      "Median of x1: 3.5\n",
      "Median of x2: 4.0\n"
     ]
    }
   ],
   "source": [
    "print('Median of x1:', np.median(x1))\n",
    "print('Median of x2:', np.median(x2))"
   ],
   "metadata": {
    "collapsed": false,
    "pycharm": {
     "name": "#%%\n"
    }
   }
  },
  {
   "cell_type": "markdown",
   "source": [
    "The mode is the most frequently occurring value in a data set"
   ],
   "metadata": {
    "collapsed": false,
    "pycharm": {
     "name": "#%% md\n"
    }
   }
  },
  {
   "cell_type": "code",
   "execution_count": 3,
   "outputs": [],
   "source": [],
   "metadata": {
    "collapsed": false,
    "pycharm": {
     "name": "#%%\n"
    }
   }
  },
  {
   "cell_type": "code",
   "execution_count": 4,
   "outputs": [
    {
     "name": "stdout",
     "output_type": "stream",
     "text": [
      "One mode of x1: 2\n",
      "All of the modes of x1: [2, 5]\n"
     ]
    }
   ],
   "source": [
    "print('One mode of x1:', stats.mode(x1)[0][0])\n",
    "\n",
    "# So we will write our own\n",
    "def mode(l):\n",
    "    # Count the number of times each element appears in the list\n",
    "    counts = {}\n",
    "    for e in l:\n",
    "        if e in counts:\n",
    "            counts[e] += 1\n",
    "        else:\n",
    "            counts[e] = 1\n",
    "\n",
    "    # Return the elements that appear the most times\n",
    "    maxcount = 0\n",
    "    modes = {}\n",
    "    for (key, value) in counts.items():\n",
    "        if value > maxcount:\n",
    "            maxcount = value\n",
    "            modes = {key}\n",
    "        elif value == maxcount:\n",
    "            modes.add(key)\n",
    "\n",
    "    if maxcount > 1 or len(l) == 1:\n",
    "        return list(modes)\n",
    "    return 'No mode'\n",
    "\n",
    "print('All of the modes of x1:', mode(x1))"
   ],
   "metadata": {
    "collapsed": false,
    "pycharm": {
     "name": "#%%\n"
    }
   }
  },
  {
   "cell_type": "markdown",
   "source": [
    "A more useful way of getting the mode for stocks"
   ],
   "metadata": {
    "collapsed": false,
    "pycharm": {
     "name": "#%% md\n"
    }
   }
  },
  {
   "cell_type": "code",
   "execution_count": 5,
   "outputs": [
    {
     "name": "stdout",
     "output_type": "stream",
     "text": [
      "Mode of returns: [0.0]\n",
      "Mode of bins: [(-0.009015424528865279, 0.007222532912099677)]\n"
     ]
    }
   ],
   "source": [
    "import pandas as pd\n",
    "import pandas_datareader as pdr\n",
    "\n",
    "data_nvda = pdr.get_data_yahoo('NVDA')\n",
    "returns = data_nvda[\"Open\"].pct_change()[1:]\n",
    "print('Mode of returns:', mode(returns))\n",
    "\n",
    "hist, bins = np.histogram(returns, 20) # Break data up into 20 bins\n",
    "maxfreq = max(hist)\n",
    "# Find all of the bins that are hit with frequency maxfreq, then print the intervals corresponding to them\n",
    "print('Mode of bins:', [(bins[i], bins[i+1]) for i, j in enumerate(hist) if j == maxfreq])"
   ],
   "metadata": {
    "collapsed": false,
    "pycharm": {
     "name": "#%%\n"
    }
   }
  },
  {
   "cell_type": "markdown",
   "source": [
    "# Geometric Mean\n",
    "Geometric mean uses multiplication instead of addition, can also be written as a logarithm, will always be less than or equal to the arithmetic mean (provide not negative)\n",
    "$$ G = \\\\sqrt[n]{X_1X_1\\\\ldots X_n} $$\n",
    "\n",
    "$$ \\\\ln G = \\\\frac{\\\\sum_{i=1}^n \\\\ln X_i}{n} $$\n"
   ],
   "metadata": {
    "collapsed": false,
    "pycharm": {
     "name": "#%% md\n"
    }
   }
  },
  {
   "cell_type": "code",
   "execution_count": 6,
   "outputs": [
    {
     "name": "stdout",
     "output_type": "stream",
     "text": [
      "Geometric mean of x1: 3.0941040249774403\n",
      "Geometric mean of x2: 4.552534587620071\n"
     ]
    }
   ],
   "source": [
    "print('Geometric mean of x1:', stats.gmean(x1))\n",
    "print('Geometric mean of x2:', stats.gmean(x2))"
   ],
   "metadata": {
    "collapsed": false,
    "pycharm": {
     "name": "#%%\n"
    }
   }
  },
  {
   "cell_type": "markdown",
   "source": [
    "If you need to handle negative observations, for asset returns it is easier since values are always at least -1.\n",
    "Can just add 1 while computing then minus one to output\n",
    "\n",
    "$$ R_G = \\\\sqrt[T]{(1 + R_1)\\\\ldots (1 + R_T)} - 1$$\n"
   ],
   "metadata": {
    "collapsed": false,
    "pycharm": {
     "name": "#%% md\n"
    }
   }
  },
  {
   "cell_type": "code",
   "execution_count": 7,
   "outputs": [
    {
     "name": "stdout",
     "output_type": "stream",
     "text": [
      "Geometric mean of returns: 0.0009386380473392908\n"
     ]
    }
   ],
   "source": [
    "ratios = returns + np.ones(len(returns))\n",
    "R_G = stats.gmean(ratios) - 1\n",
    "print('Geometric mean of returns:', R_G)"
   ],
   "metadata": {
    "collapsed": false,
    "pycharm": {
     "name": "#%%\n"
    }
   }
  },
  {
   "cell_type": "markdown",
   "source": [
    "The geometric mean is defined so that if the rate of return over the whole time period were constant and equal to $R_G$, the final price of the security would be the same as in the case of returns $R_1, \\\\ldots, R_T$."
   ],
   "metadata": {
    "collapsed": false,
    "pycharm": {
     "name": "#%% md\n"
    }
   }
  },
  {
   "cell_type": "code",
   "execution_count": 8,
   "outputs": [
    {
     "name": "stdout",
     "output_type": "stream",
     "text": [
      "Initial price: 41.3849983215332\n",
      "Final price: 134.58999633789062\n",
      "Final price as computed with R_G: 134.58999633787343\n"
     ]
    }
   ],
   "source": [
    "T = len(returns)\n",
    "init_price = data_nvda[\"Open\"][0]\n",
    "final_price = data_nvda[\"Open\"][T]\n",
    "print('Initial price:', init_price)\n",
    "print('Final price:', final_price)\n",
    "print('Final price as computed with R_G:', init_price*(1 + R_G)**T)"
   ],
   "metadata": {
    "collapsed": false,
    "pycharm": {
     "name": "#%%\n"
    }
   }
  },
  {
   "cell_type": "markdown",
   "source": [
    "# Harmonic mean\n",
    "Less commonly used\n",
    "$$ H = \\\\frac{n}{\\\\sum_{i=1}^n \\\\frac{1}{X_i}} $$\n",
    "\n",
    "Can write to look like Arithmetic mean\n",
    "$$ \\\\frac{1}{H} = \\\\frac{\\\\sum_{i=1}^n \\\\frac{1}{X_i}}{n} $$\n",
    "\n",
    "for non-neg, is always at most the geometric mean (at most the arithmetic mean)\n",
    "\n",
    "All of these are only equal when all observations are equal\n"
   ],
   "metadata": {
    "collapsed": false,
    "pycharm": {
     "name": "#%% md\n"
    }
   }
  },
  {
   "cell_type": "code",
   "execution_count": 9,
   "outputs": [
    {
     "name": "stdout",
     "output_type": "stream",
     "text": [
      "Harmonic mean of x1: 2.5590251332825593\n",
      "Harmonic mean of x2: 2.869723656240511\n"
     ]
    }
   ],
   "source": [
    "print('Harmonic mean of x1:', stats.hmean(x1))\n",
    "print('Harmonic mean of x2:', stats.hmean(x2))"
   ],
   "metadata": {
    "collapsed": false,
    "pycharm": {
     "name": "#%%\n"
    }
   }
  },
  {
   "cell_type": "markdown",
   "source": [
    "Can be used when the data is termed in ratios. Dollar cost averaging is an example, The higher the price of the stock, then, the fewer shares an investor following this strategy buys. The average (arithmetic mean) amount they pay for the stock is the harmonic mean of the prices."
   ],
   "metadata": {
    "collapsed": false,
    "pycharm": {
     "name": "#%% md\n"
    }
   }
  },
  {
   "cell_type": "markdown",
   "source": [
    "Means by nature hide a lot of information, as they collapse entire distributions into one number. As a result often 'point estimates' or metrics that use one number, can disguise large programs in your data. You should be careful to ensure that you are not losing key information by summarizing your data, and you should rarely, if ever, use a mean without also referring to a measure of spread.\n",
    "\n",
    "Distribution type would also matter a lot\n",
    "\n",
    "Means by nature hide a lot of information, as they collapse entire distributions into one number. As a result often 'point estimates' or metrics that use one number, can disguise large programs in your data. You should be careful to ensure that you are not losing key information by summarizing your data, and you should rarely, if ever, use a mean without also referring to a measure of spread."
   ],
   "metadata": {
    "collapsed": false,
    "pycharm": {
     "name": "#%% md\n"
    }
   }
  }
 ],
 "metadata": {
  "kernelspec": {
   "display_name": "Python 3",
   "language": "python",
   "name": "python3"
  },
  "language_info": {
   "codemirror_mode": {
    "name": "ipython",
    "version": 2
   },
   "file_extension": ".py",
   "mimetype": "text/x-python",
   "name": "python",
   "nbconvert_exporter": "python",
   "pygments_lexer": "ipython2",
   "version": "2.7.6"
  }
 },
 "nbformat": 4,
 "nbformat_minor": 0
}