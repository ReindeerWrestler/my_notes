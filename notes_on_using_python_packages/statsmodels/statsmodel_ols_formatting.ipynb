{
 "cells": [
  {
   "cell_type": "code",
   "execution_count": 17,
   "metadata": {
    "collapsed": true
   },
   "outputs": [
    {
     "data": {
      "text/plain": "                      date_btf  open_btf  high_btf  low_btf  close_btf  \\\n0     2022-01-03T15:00:00.000Z   180.470   181.425  180.300    180.960   \n1     2022-01-03T16:00:00.000Z   180.965   181.755  180.400    181.465   \n2     2022-01-03T17:00:00.000Z   181.470   182.160  181.070    181.680   \n3     2022-01-03T18:00:00.000Z   181.725   182.870  181.660    182.360   \n4     2022-01-03T19:00:00.000Z   182.370   182.430  181.670    181.875   \n...                        ...       ...       ...      ...        ...   \n1801  2022-12-28T17:00:00.000Z   126.620   127.730  126.410    127.625   \n1802  2022-12-28T18:00:00.000Z   127.655   128.385  126.845    127.080   \n1803  2022-12-28T19:00:00.000Z   127.090   127.500  126.810    126.830   \n1804  2022-12-28T20:00:00.000Z   126.835   126.840  125.880    126.070   \n1805  2022-12-28T21:00:00.000Z   126.070   126.070  126.070    126.070   \n\n      volume_btf                 date_bito  open_bito  high_bito  low_bito  \\\n0       176244.0  2022-01-03T15:00:00.000Z    180.470    181.425   180.300   \n1       109457.0  2022-01-03T16:00:00.000Z    180.965    181.755   180.400   \n2       107664.0  2022-01-03T17:00:00.000Z    181.470    182.160   181.070   \n3       256132.0  2022-01-03T18:00:00.000Z    181.725    182.870   181.660   \n4        97949.0  2022-01-03T19:00:00.000Z    182.370    182.430   181.670   \n...          ...                       ...        ...        ...       ...   \n1801    224599.0  2022-12-28T17:00:00.000Z    126.620    127.730   126.410   \n1802    149417.0  2022-12-28T18:00:00.000Z    127.655    128.385   126.845   \n1803    112721.0  2022-12-28T19:00:00.000Z    127.090    127.500   126.810   \n1804    374646.0  2022-12-28T20:00:00.000Z    126.835    126.840   125.880   \n1805         0.0  2022-12-28T21:00:00.000Z    126.070    126.070   126.070   \n\n      close_bito  volume_bito  \n0        180.960     176244.0  \n1        181.465     109457.0  \n2        181.680     107664.0  \n3        182.360     256132.0  \n4        181.875      97949.0  \n...          ...          ...  \n1801     127.625     224599.0  \n1802     127.080     149417.0  \n1803     126.830     112721.0  \n1804     126.070     374646.0  \n1805     126.070          0.0  \n\n[1806 rows x 12 columns]",
      "text/html": "<div>\n<style scoped>\n    .dataframe tbody tr th:only-of-type {\n        vertical-align: middle;\n    }\n\n    .dataframe tbody tr th {\n        vertical-align: top;\n    }\n\n    .dataframe thead th {\n        text-align: right;\n    }\n</style>\n<table border=\"1\" class=\"dataframe\">\n  <thead>\n    <tr style=\"text-align: right;\">\n      <th></th>\n      <th>date_btf</th>\n      <th>open_btf</th>\n      <th>high_btf</th>\n      <th>low_btf</th>\n      <th>close_btf</th>\n      <th>volume_btf</th>\n      <th>date_bito</th>\n      <th>open_bito</th>\n      <th>high_bito</th>\n      <th>low_bito</th>\n      <th>close_bito</th>\n      <th>volume_bito</th>\n    </tr>\n  </thead>\n  <tbody>\n    <tr>\n      <th>0</th>\n      <td>2022-01-03T15:00:00.000Z</td>\n      <td>180.470</td>\n      <td>181.425</td>\n      <td>180.300</td>\n      <td>180.960</td>\n      <td>176244.0</td>\n      <td>2022-01-03T15:00:00.000Z</td>\n      <td>180.470</td>\n      <td>181.425</td>\n      <td>180.300</td>\n      <td>180.960</td>\n      <td>176244.0</td>\n    </tr>\n    <tr>\n      <th>1</th>\n      <td>2022-01-03T16:00:00.000Z</td>\n      <td>180.965</td>\n      <td>181.755</td>\n      <td>180.400</td>\n      <td>181.465</td>\n      <td>109457.0</td>\n      <td>2022-01-03T16:00:00.000Z</td>\n      <td>180.965</td>\n      <td>181.755</td>\n      <td>180.400</td>\n      <td>181.465</td>\n      <td>109457.0</td>\n    </tr>\n    <tr>\n      <th>2</th>\n      <td>2022-01-03T17:00:00.000Z</td>\n      <td>181.470</td>\n      <td>182.160</td>\n      <td>181.070</td>\n      <td>181.680</td>\n      <td>107664.0</td>\n      <td>2022-01-03T17:00:00.000Z</td>\n      <td>181.470</td>\n      <td>182.160</td>\n      <td>181.070</td>\n      <td>181.680</td>\n      <td>107664.0</td>\n    </tr>\n    <tr>\n      <th>3</th>\n      <td>2022-01-03T18:00:00.000Z</td>\n      <td>181.725</td>\n      <td>182.870</td>\n      <td>181.660</td>\n      <td>182.360</td>\n      <td>256132.0</td>\n      <td>2022-01-03T18:00:00.000Z</td>\n      <td>181.725</td>\n      <td>182.870</td>\n      <td>181.660</td>\n      <td>182.360</td>\n      <td>256132.0</td>\n    </tr>\n    <tr>\n      <th>4</th>\n      <td>2022-01-03T19:00:00.000Z</td>\n      <td>182.370</td>\n      <td>182.430</td>\n      <td>181.670</td>\n      <td>181.875</td>\n      <td>97949.0</td>\n      <td>2022-01-03T19:00:00.000Z</td>\n      <td>182.370</td>\n      <td>182.430</td>\n      <td>181.670</td>\n      <td>181.875</td>\n      <td>97949.0</td>\n    </tr>\n    <tr>\n      <th>...</th>\n      <td>...</td>\n      <td>...</td>\n      <td>...</td>\n      <td>...</td>\n      <td>...</td>\n      <td>...</td>\n      <td>...</td>\n      <td>...</td>\n      <td>...</td>\n      <td>...</td>\n      <td>...</td>\n      <td>...</td>\n    </tr>\n    <tr>\n      <th>1801</th>\n      <td>2022-12-28T17:00:00.000Z</td>\n      <td>126.620</td>\n      <td>127.730</td>\n      <td>126.410</td>\n      <td>127.625</td>\n      <td>224599.0</td>\n      <td>2022-12-28T17:00:00.000Z</td>\n      <td>126.620</td>\n      <td>127.730</td>\n      <td>126.410</td>\n      <td>127.625</td>\n      <td>224599.0</td>\n    </tr>\n    <tr>\n      <th>1802</th>\n      <td>2022-12-28T18:00:00.000Z</td>\n      <td>127.655</td>\n      <td>128.385</td>\n      <td>126.845</td>\n      <td>127.080</td>\n      <td>149417.0</td>\n      <td>2022-12-28T18:00:00.000Z</td>\n      <td>127.655</td>\n      <td>128.385</td>\n      <td>126.845</td>\n      <td>127.080</td>\n      <td>149417.0</td>\n    </tr>\n    <tr>\n      <th>1803</th>\n      <td>2022-12-28T19:00:00.000Z</td>\n      <td>127.090</td>\n      <td>127.500</td>\n      <td>126.810</td>\n      <td>126.830</td>\n      <td>112721.0</td>\n      <td>2022-12-28T19:00:00.000Z</td>\n      <td>127.090</td>\n      <td>127.500</td>\n      <td>126.810</td>\n      <td>126.830</td>\n      <td>112721.0</td>\n    </tr>\n    <tr>\n      <th>1804</th>\n      <td>2022-12-28T20:00:00.000Z</td>\n      <td>126.835</td>\n      <td>126.840</td>\n      <td>125.880</td>\n      <td>126.070</td>\n      <td>374646.0</td>\n      <td>2022-12-28T20:00:00.000Z</td>\n      <td>126.835</td>\n      <td>126.840</td>\n      <td>125.880</td>\n      <td>126.070</td>\n      <td>374646.0</td>\n    </tr>\n    <tr>\n      <th>1805</th>\n      <td>2022-12-28T21:00:00.000Z</td>\n      <td>126.070</td>\n      <td>126.070</td>\n      <td>126.070</td>\n      <td>126.070</td>\n      <td>0.0</td>\n      <td>2022-12-28T21:00:00.000Z</td>\n      <td>126.070</td>\n      <td>126.070</td>\n      <td>126.070</td>\n      <td>126.070</td>\n      <td>0.0</td>\n    </tr>\n  </tbody>\n</table>\n<p>1806 rows × 12 columns</p>\n</div>"
     },
     "execution_count": 17,
     "metadata": {},
     "output_type": "execute_result"
    }
   ],
   "source": [
    "import numpy as np\n",
    "import pandas as pd\n",
    "#import matplotlib.pyplot as plt\n",
    "import statsmodels.formula.api as smf\n",
    "import statsmodels.api as sm\n",
    "import statsmodels.tsa.stattools as ts\n",
    "import statsmodels.tsa.vector_ar.vecm as vm\n",
    "from sklearn.linear_model import LinearRegression\n",
    "\n",
    "df_bito = pd.read_csv(\"/home/nelson/PycharmProjects/my_notes/Dummy_data_for_examples/currency_etf/bito.csv\", index_col=0)\n",
    "df_bito.columns = df_bito.columns + \"_bito\"\n",
    "df_btf = pd.read_csv(\"/home/nelson/PycharmProjects/my_notes/Dummy_data_for_examples/currency_etf/btf.csv\", index_col=0)\n",
    "df_btf.columns = df_btf.columns + \"_btf\"\n",
    "\n",
    "df_data = df_btf.merge(df_bito, how=\"inner\", left_on=\"date_btf\", right_on=\"date_bito\")\n",
    "df_data"
   ]
  },
  {
   "cell_type": "markdown",
   "source": [
    "Item of note. The code below uses R style matrix formatting code. To get the correct coefficient ratio use this format.\n",
    "\n",
    "Or use scikit learns linear regression model.\n",
    "Otherwise, you can get the correct format by using a vector of 1's"
   ],
   "metadata": {
    "collapsed": false
   }
  },
  {
   "cell_type": "code",
   "execution_count": 28,
   "outputs": [
    {
     "name": "stdout",
     "output_type": "stream",
     "text": [
      "Statsmodel.Formula.Api Method\n",
      "Intercept   -1.287859e-14\n",
      "open_bito    1.000000e+00\n",
      "dtype: float64\n",
      "                            OLS Regression Results                            \n",
      "==============================================================================\n",
      "Dep. Variable:               open_btf   R-squared:                       1.000\n",
      "Model:                            OLS   Adj. R-squared:                  1.000\n",
      "Method:                 Least Squares   F-statistic:                 1.005e+31\n",
      "Date:                Tue, 03 Jan 2023   Prob (F-statistic):               0.00\n",
      "Time:                        19:29:42   Log-Likelihood:                 50498.\n",
      "No. Observations:                1806   AIC:                        -1.010e+05\n",
      "Df Residuals:                    1804   BIC:                        -1.010e+05\n",
      "Df Model:                           1                                         \n",
      "Covariance Type:            nonrobust                                         \n",
      "==============================================================================\n",
      "                 coef    std err          t      P>|t|      [0.025      0.975]\n",
      "------------------------------------------------------------------------------\n",
      "Intercept  -1.288e-14    4.9e-14     -0.263      0.793   -1.09e-13    8.33e-14\n",
      "open_bito      1.0000   3.15e-16   3.17e+15      0.000       1.000       1.000\n",
      "==============================================================================\n",
      "Omnibus:                       37.999   Durbin-Watson:                   0.001\n",
      "Prob(Omnibus):                  0.000   Jarque-Bera (JB):               22.219\n",
      "Skew:                           0.097   Prob(JB):                     1.50e-05\n",
      "Kurtosis:                       2.492   Cond. No.                     1.86e+03\n",
      "==============================================================================\n",
      "\n",
      "Notes:\n",
      "[1] Standard Errors assume that the covariance matrix of the errors is correctly specified.\n",
      "[2] The condition number is large, 1.86e+03. This might indicate that there are\n",
      "strong multicollinearity or other numerical problems.\n",
      "Statsmodel.Api Method\n",
      "[-1.28785871e-14  1.00000000e+00]\n",
      "                            OLS Regression Results                            \n",
      "==============================================================================\n",
      "Dep. Variable:                      y   R-squared:                       1.000\n",
      "Model:                            OLS   Adj. R-squared:                  1.000\n",
      "Method:                 Least Squares   F-statistic:                 1.005e+31\n",
      "Date:                Tue, 03 Jan 2023   Prob (F-statistic):               0.00\n",
      "Time:                        19:29:42   Log-Likelihood:                 50498.\n",
      "No. Observations:                1806   AIC:                        -1.010e+05\n",
      "Df Residuals:                    1804   BIC:                        -1.010e+05\n",
      "Df Model:                           1                                         \n",
      "Covariance Type:            nonrobust                                         \n",
      "==============================================================================\n",
      "                 coef    std err          t      P>|t|      [0.025      0.975]\n",
      "------------------------------------------------------------------------------\n",
      "const      -1.288e-14    4.9e-14     -0.263      0.793   -1.09e-13    8.33e-14\n",
      "x1             1.0000   3.15e-16   3.17e+15      0.000       1.000       1.000\n",
      "==============================================================================\n",
      "Omnibus:                       37.999   Durbin-Watson:                   0.001\n",
      "Prob(Omnibus):                  0.000   Jarque-Bera (JB):               22.219\n",
      "Skew:                           0.097   Prob(JB):                     1.50e-05\n",
      "Kurtosis:                       2.492   Cond. No.                     1.86e+03\n",
      "==============================================================================\n",
      "\n",
      "Notes:\n",
      "[1] Standard Errors assume that the covariance matrix of the errors is correctly specified.\n",
      "[2] The condition number is large, 1.86e+03. This might indicate that there are\n",
      "strong multicollinearity or other numerical problems.\n",
      "Sci-Kit Learn Method\n",
      "[[1.]]\n",
      "[5.68434189e-14]\n"
     ]
    }
   ],
   "source": [
    "print(\"Statsmodel.Formula.Api Method\")\n",
    "model1 = smf.ols(formula='open_btf ~ open_bito', data=df_data).fit()\n",
    "print(model1.params)\n",
    "print(model1.summary())\n",
    "\n",
    "btf_open = df_data[\"open_btf\"].tolist()  # y term\n",
    "bito_open = df_data[\"open_bito\"].tolist()  # x term\n",
    "\n",
    "bito_open = sm.add_constant(bito_open)\n",
    "\n",
    "print(\"Statsmodel.Api Method\")\n",
    "results = sm.OLS(btf_open, bito_open).fit()\n",
    "bito_open = bito_open[1]\n",
    "print(results.params)\n",
    "print(results.summary())\n",
    "\n",
    "print(\"Sci-Kit Learn Method\")\n",
    "model3 = LinearRegression()\n",
    "# get data into correct format\n",
    "btf_open = df_data[\"open_btf\"].values # y term\n",
    "bito_open = df_data[\"open_bito\"].values  # x term\n",
    "btf_open = btf_open.reshape(df_data.shape[0], 1)\n",
    "bito_open = bito_open.reshape(df_data.shape[0], 1)\n",
    "\n",
    "# or\n",
    "X = df_data[[\"open_btf\"]]\n",
    "y = df_data[[\"open_bito\"]]\n",
    "\n",
    "model3.fit(bito_open, btf_open)  # is (X, Y) not (y, x) as above\n",
    "print(model3.coef_)\n",
    "print(model3.intercept_)"
   ],
   "metadata": {
    "collapsed": false
   }
  }
 ],
 "metadata": {
  "kernelspec": {
   "display_name": "Python 3",
   "language": "python",
   "name": "python3"
  },
  "language_info": {
   "codemirror_mode": {
    "name": "ipython",
    "version": 2
   },
   "file_extension": ".py",
   "mimetype": "text/x-python",
   "name": "python",
   "nbconvert_exporter": "python",
   "pygments_lexer": "ipython2",
   "version": "2.7.6"
  }
 },
 "nbformat": 4,
 "nbformat_minor": 0
}
